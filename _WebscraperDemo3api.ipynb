{
  "nbformat": 4,
  "nbformat_minor": 0,
  "metadata": {
    "colab": {
      "provenance": [],
      "authorship_tag": "ABX9TyNvlejRYAA2WW4Jhc2VCbDT",
      "include_colab_link": true
    },
    "kernelspec": {
      "name": "python3",
      "display_name": "Python 3"
    },
    "language_info": {
      "name": "python"
    }
  },
  "cells": [
    {
      "cell_type": "markdown",
      "metadata": {
        "id": "view-in-github",
        "colab_type": "text"
      },
      "source": [
        "<a href=\"https://colab.research.google.com/github/XJugganaut/XJugganaut/blob/main/_WebscraperDemo3api.ipynb\" target=\"_parent\"><img src=\"https://colab.research.google.com/assets/colab-badge.svg\" alt=\"Open In Colab\"/></a>"
      ]
    },
    {
      "cell_type": "code",
      "source": [
        "import requests\n",
        "import json\n",
        "import csv\n",
        "\n",
        "# API URL and parameters\n",
        "url = \"https://indeed12.p.rapidapi.com/jobs/search\"\n",
        "\n",
        "querystring = {\"query\":\"cybersecurity\",\"location\":\"chicago\",\"page_id\":[\"1, 2\"],\"locality\":\"us\",\"fromage\":\"1\",\"radius\":\"50\",\"sort\":\"date\"}\n",
        "\n",
        "\n",
        "\n",
        "# Headers for the API request\n",
        "headers = {\n",
        "\t\"x-rapidapi-key\": \"1234\",\n",
        "\t\"x-rapidapi-host\": \"indeed12.p.rapidapi.com\"\n",
        "}\n",
        "\n",
        "# API request\n",
        "response = requests.get(url, headers=headers, params=querystring)\n",
        "\n",
        "# Check if the request was successful\n",
        "if response.status_code == 200:\n",
        "    data = response.json()  # Extract the JSON data\n",
        "\n",
        "    # Pretty print the JSON structure to understand its format\n",
        "    formatted_json = json.dumps(data, indent=4)\n",
        "    print(formatted_json)  # Print to console\n",
        "\n",
        "    # Specify the CSV file name\n",
        "    csv_file = 'cyberjobsindeed_data.csv'\n",
        "\n",
        "    # Open CSV file for writing\n",
        "    with open(csv_file, mode='w', newline='', encoding='utf-8') as file:\n",
        "        writer = csv.writer(file)\n",
        "\n",
        "        # Write the header row\n",
        "        writer.writerow([\"company_name\", \"formatted_relative_time\", \"id\", \"link\", \"locality\",\n",
        "                         \"location\", \"pub_date_ts_milli\", \"salary\"])\n",
        "\n",
        "        # Write data rows\n",
        "        if 'hits' in data:\n",
        "            for job in data['hits']:\n",
        "                # Validate job fields\n",
        "                if all(key in job for key in ['company_name', 'formatted_relative_time', 'id', 'link', 'locality', 'location', 'pub_date_ts_milli']):\n",
        "                    salary_info = job.get('salary', {})\n",
        "                    salary_str = f\"{salary_info.get('min', '')}-{salary_info.get('max', '')} {salary_info.get('type', '')}\"\n",
        "                    writer.writerow([\n",
        "                        job['company_name'],\n",
        "                        job['formatted_relative_time'],\n",
        "                        job['id'],\n",
        "                        job['link'],\n",
        "                        job['locality'],\n",
        "                        job['location'],\n",
        "                        job['pub_date_ts_milli'],\n",
        "                        salary_str\n",
        "                    ])\n",
        "                else:\n",
        "                    print(f\"Error: Missing job fields for job ID {job.get('id', '')}\")\n",
        "\n",
        "    print(f\"Data successfully written to {csv_file}\")\n",
        "\n",
        "else:\n",
        "    print(f\"Error: Unable to fetch data (Status code: {response.status_code})\")"
      ],
      "metadata": {
        "colab": {
          "base_uri": "https://localhost:8080/"
        },
        "id": "qPJj8Qnb9HST",
        "outputId": "cb110dfa-07fc-4e38-e4c1-5761ebbac777"
      },
      "execution_count": null,
      "outputs": [
        {
          "output_type": "stream",
          "name": "stdout",
          "text": [
            "Error: Unable to fetch data (Status code: 429)\n"
          ]
        }
      ]
    }
  ]
}
